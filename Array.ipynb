{
  "nbformat": 4,
  "nbformat_minor": 0,
  "metadata": {
    "colab": {
      "provenance": [],
      "authorship_tag": "ABX9TyNFQwGPpbYMl27DBYvE1ygP",
      "include_colab_link": true
    },
    "kernelspec": {
      "name": "python3",
      "display_name": "Python 3"
    },
    "language_info": {
      "name": "python"
    }
  },
  "cells": [
    {
      "cell_type": "markdown",
      "metadata": {
        "id": "view-in-github",
        "colab_type": "text"
      },
      "source": [
        "<a href=\"https://colab.research.google.com/github/b19szn/Data-Structures/blob/main/Array.ipynb\" target=\"_parent\"><img src=\"https://colab.research.google.com/assets/colab-badge.svg\" alt=\"Open In Colab\"/></a>"
      ]
    },
    {
      "cell_type": "markdown",
      "source": [
        "Array Iteration using regular for loop and using range for loop"
      ],
      "metadata": {
        "id": "JvcuFkLz42Yw"
      }
    },
    {
      "cell_type": "code",
      "source": [
        "#using regular for loop\n",
        "import numpy as np\n",
        "\n",
        "arr1 = np.array([1,2,3,4,5,6])\n",
        "for i in arr1:\n",
        "  print(i)\n",
        "\n",
        "#Using range for loop\n",
        "\n",
        "arr1 = np.array([1,2,3,4,5,6])\n",
        "for i in range(0,len(arr1),1):\n",
        "  print(arr1[i])"
      ],
      "metadata": {
        "colab": {
          "base_uri": "https://localhost:8080/"
        },
        "id": "J_brLxcs5HZr",
        "outputId": "3878a9c9-221e-4452-996e-b87509b81146"
      },
      "execution_count": 2,
      "outputs": [
        {
          "output_type": "stream",
          "name": "stdout",
          "text": [
            "1\n",
            "2\n",
            "3\n",
            "4\n",
            "5\n",
            "6\n",
            "1\n",
            "2\n",
            "3\n",
            "4\n",
            "5\n",
            "6\n"
          ]
        }
      ]
    },
    {
      "cell_type": "markdown",
      "source": [
        "Array Resize"
      ],
      "metadata": {
        "id": "9jn8y6AG5-ne"
      }
    },
    {
      "cell_type": "code",
      "source": [
        "import numpy as np\n",
        "\n",
        "def resizeArray(arr,new_size):\n",
        "  arr2 = np.array([0]*new_size)\n",
        "  for i in range(len(arr)):\n",
        "    arr2[i] = arr[i]\n",
        "  return arr2\n",
        "\n",
        "arr1 = np.array([1,2,3,4,5,6])\n",
        "print(resizeArray(arr1,8))\n"
      ],
      "metadata": {
        "colab": {
          "base_uri": "https://localhost:8080/"
        },
        "id": "GOUQhCTT6Bjo",
        "outputId": "8a0b6f6e-5485-4609-8803-c35ce2e9a67d"
      },
      "execution_count": 6,
      "outputs": [
        {
          "output_type": "stream",
          "name": "stdout",
          "text": [
            "[1 2 3 4 5 6 0 0]\n"
          ]
        }
      ]
    },
    {
      "cell_type": "markdown",
      "source": [
        "Copy Array"
      ],
      "metadata": {
        "id": "1VB6V8wfDsXD"
      }
    },
    {
      "cell_type": "code",
      "source": [
        "def copyArray(arr):\n",
        "  newArray = [None]*len(arr)\n",
        "  for i in range(len(arr)):\n",
        "    newArray[i] = arr[i]\n",
        "  return newArray"
      ],
      "metadata": {
        "id": "4ZO7ZRXbDvLN"
      },
      "execution_count": 8,
      "outputs": []
    },
    {
      "cell_type": "markdown",
      "source": [
        "Array Shifting Left And Right"
      ],
      "metadata": {
        "id": "76fA-3O6F9aV"
      }
    },
    {
      "cell_type": "code",
      "source": [
        "#[5,3,9, 13 , 2]\n",
        "#After Left Shift\n",
        "#[3 , 9 , 13 ,2 , 0(None)]\n",
        "\n",
        "import numpy as np\n",
        "def LeftShift(arr):\n",
        "  for i in range(1,len(arr)):\n",
        "    arr[i-1] = arr[i]\n",
        "  arr[len(arr)-1] = 0 #None\n",
        "  return arr\n",
        "\n",
        "arr = np.array([5 , 3 , 9 , 13 , 2])\n",
        "print(LeftShift(arr))\n"
      ],
      "metadata": {
        "colab": {
          "base_uri": "https://localhost:8080/"
        },
        "id": "z-0UZuCKGBpN",
        "outputId": "b54875ad-d46c-432b-edda-2b90d63f71b9"
      },
      "execution_count": 3,
      "outputs": [
        {
          "output_type": "stream",
          "name": "stdout",
          "text": [
            "[ 3  9 13  2  0]\n"
          ]
        }
      ]
    },
    {
      "cell_type": "code",
      "source": [
        "#[5,3,9, 13 , 2]\n",
        "#After Right Shift\n",
        "#[0(None), 5 , 3 , 9 , 13]\n",
        "\n",
        "import numpy as np\n",
        "def RightShift(arr):\n",
        "  for i in range(len(arr)-1,0,-1):\n",
        "    arr[i] = arr[i-1]\n",
        "  arr[0] = 0\n",
        "  return arr\n",
        "\n",
        "arr = np.array([5,3,9,13,2])\n",
        "print(RightShift(arr))"
      ],
      "metadata": {
        "colab": {
          "base_uri": "https://localhost:8080/"
        },
        "id": "3kyAbzW2T4d6",
        "outputId": "3f25515e-672a-42a5-ddf9-0d8e7694ec2d"
      },
      "execution_count": 6,
      "outputs": [
        {
          "output_type": "stream",
          "name": "stdout",
          "text": [
            "[ 0  5  3  9 13]\n"
          ]
        }
      ]
    },
    {
      "cell_type": "markdown",
      "source": [
        "Array Rotate Left and Right\n",
        "\n"
      ],
      "metadata": {
        "id": "BC8QWlbdVDKX"
      }
    },
    {
      "cell_type": "code",
      "source": [
        "#Array [ 5 3 9 13 2]\n",
        "#After Rotate\n",
        "#Array [3 9 13 2 5]\n",
        "\n",
        "import numpy as np\n",
        "\n",
        "def RotateLeft(arr):\n",
        "  temp = arr[0]\n",
        "  for i in range(1,len(arr)):\n",
        "    arr[i-1] = arr[i]\n",
        "  arr[len(arr)-1] = temp\n",
        "  return arr\n",
        "\n",
        "arr = np.array([5 , 3 , 9 , 13 , 2])\n",
        "print(RotateLeft(arr))\n"
      ],
      "metadata": {
        "colab": {
          "base_uri": "https://localhost:8080/"
        },
        "id": "XaRU-fHYYOAz",
        "outputId": "ec50c1c8-dc3d-4486-8b61-f2c4ebd052eb"
      },
      "execution_count": 7,
      "outputs": [
        {
          "output_type": "stream",
          "name": "stdout",
          "text": [
            "[ 3  9 13  2  5]\n"
          ]
        }
      ]
    }
  ]
}