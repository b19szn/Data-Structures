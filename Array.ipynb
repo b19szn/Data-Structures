{
  "nbformat": 4,
  "nbformat_minor": 0,
  "metadata": {
    "colab": {
      "provenance": [],
      "authorship_tag": "ABX9TyMsKmJq0+7jp4ZrUDw7a2YD",
      "include_colab_link": true
    },
    "kernelspec": {
      "name": "python3",
      "display_name": "Python 3"
    },
    "language_info": {
      "name": "python"
    }
  },
  "cells": [
    {
      "cell_type": "markdown",
      "metadata": {
        "id": "view-in-github",
        "colab_type": "text"
      },
      "source": [
        "<a href=\"https://colab.research.google.com/github/b19szn/Data-Structures/blob/main/Array.ipynb\" target=\"_parent\"><img src=\"https://colab.research.google.com/assets/colab-badge.svg\" alt=\"Open In Colab\"/></a>"
      ]
    },
    {
      "cell_type": "markdown",
      "source": [
        "Array Iteration using regular for loop and using range for loop"
      ],
      "metadata": {
        "id": "JvcuFkLz42Yw"
      }
    },
    {
      "cell_type": "code",
      "source": [
        "#using regular for loop\n",
        "import numpy as np\n",
        "\n",
        "arr1 = np.array([1,2,3,4,5,6])\n",
        "for i in arr1:\n",
        "  print(i)\n",
        "\n",
        "#Using range for loop\n",
        "\n",
        "arr1 = np.array([1,2,3,4,5,6])\n",
        "for i in range(0,len(arr1),1):\n",
        "  print(arr1[i])"
      ],
      "metadata": {
        "colab": {
          "base_uri": "https://localhost:8080/"
        },
        "id": "J_brLxcs5HZr",
        "outputId": "3878a9c9-221e-4452-996e-b87509b81146"
      },
      "execution_count": null,
      "outputs": [
        {
          "output_type": "stream",
          "name": "stdout",
          "text": [
            "1\n",
            "2\n",
            "3\n",
            "4\n",
            "5\n",
            "6\n",
            "1\n",
            "2\n",
            "3\n",
            "4\n",
            "5\n",
            "6\n"
          ]
        }
      ]
    },
    {
      "cell_type": "code",
      "source": [],
      "metadata": {
        "id": "6JJOTKCdPMKK"
      },
      "execution_count": null,
      "outputs": []
    },
    {
      "cell_type": "markdown",
      "source": [
        "Array Resize"
      ],
      "metadata": {
        "id": "9jn8y6AG5-ne"
      }
    },
    {
      "cell_type": "code",
      "source": [
        "import numpy as np\n",
        "\n",
        "def resizeArray(arr,new_size):\n",
        "  arr2 = np.array([0]*new_size)\n",
        "  for i in range(len(arr)):\n",
        "    arr2[i] = arr[i]\n",
        "  return arr2\n",
        "\n",
        "arr1 = np.array([1,2,3,4,5,6])\n",
        "print(resizeArray(arr1,8))\n"
      ],
      "metadata": {
        "colab": {
          "base_uri": "https://localhost:8080/"
        },
        "id": "GOUQhCTT6Bjo",
        "outputId": "8a0b6f6e-5485-4609-8803-c35ce2e9a67d"
      },
      "execution_count": null,
      "outputs": [
        {
          "output_type": "stream",
          "name": "stdout",
          "text": [
            "[1 2 3 4 5 6 0 0]\n"
          ]
        }
      ]
    },
    {
      "cell_type": "markdown",
      "source": [
        "Copy Array"
      ],
      "metadata": {
        "id": "1VB6V8wfDsXD"
      }
    },
    {
      "cell_type": "code",
      "source": [
        "def copyArray(arr):\n",
        "  newArray = [None]*len(arr)\n",
        "  for i in range(len(arr)):\n",
        "    newArray[i] = arr[i]\n",
        "  return newArray"
      ],
      "metadata": {
        "id": "4ZO7ZRXbDvLN"
      },
      "execution_count": null,
      "outputs": []
    },
    {
      "cell_type": "markdown",
      "source": [
        "Array Shifting Left And Right"
      ],
      "metadata": {
        "id": "76fA-3O6F9aV"
      }
    },
    {
      "cell_type": "code",
      "source": [
        "#[5,3,9, 13 , 2]\n",
        "#After Left Shift\n",
        "#[3 , 9 , 13 ,2 , 0(None)]\n",
        "\n",
        "import numpy as np\n",
        "def LeftShift(arr):\n",
        "  for i in range(1,len(arr)):\n",
        "    arr[i-1] = arr[i]\n",
        "  arr[len(arr)-1] = 0 #None\n",
        "  return arr\n",
        "\n",
        "arr = np.array([5 , 3 , 9 , 13 , 2])\n",
        "print(LeftShift(arr))\n"
      ],
      "metadata": {
        "colab": {
          "base_uri": "https://localhost:8080/"
        },
        "id": "z-0UZuCKGBpN",
        "outputId": "b54875ad-d46c-432b-edda-2b90d63f71b9"
      },
      "execution_count": null,
      "outputs": [
        {
          "output_type": "stream",
          "name": "stdout",
          "text": [
            "[ 3  9 13  2  0]\n"
          ]
        }
      ]
    },
    {
      "cell_type": "code",
      "source": [
        "#[5,3,9, 13 , 2]\n",
        "#After Right Shift\n",
        "#[0(None), 5 , 3 , 9 , 13]\n",
        "\n",
        "import numpy as np\n",
        "def RightShift(arr):\n",
        "  for i in range(len(arr)-1,0,-1):\n",
        "    arr[i] = arr[i-1]\n",
        "  arr[0] = 0\n",
        "  return arr\n",
        "\n",
        "arr = np.array([5,3,9,13,2])\n",
        "print(RightShift(arr))"
      ],
      "metadata": {
        "colab": {
          "base_uri": "https://localhost:8080/"
        },
        "id": "3kyAbzW2T4d6",
        "outputId": "3f25515e-672a-42a5-ddf9-0d8e7694ec2d"
      },
      "execution_count": null,
      "outputs": [
        {
          "output_type": "stream",
          "name": "stdout",
          "text": [
            "[ 0  5  3  9 13]\n"
          ]
        }
      ]
    },
    {
      "cell_type": "markdown",
      "source": [
        "Array Rotate Left and Right\n",
        "\n"
      ],
      "metadata": {
        "id": "BC8QWlbdVDKX"
      }
    },
    {
      "cell_type": "code",
      "source": [
        "#Array [ 5 3 9 13 2]\n",
        "#After Left Rotate\n",
        "#Array [3 9 13 2 5]\n",
        "\n",
        "import numpy as np\n",
        "\n",
        "def RotateLeft(arr):\n",
        "  temp = arr[0]\n",
        "  for i in range(1,len(arr)):\n",
        "    arr[i-1] = arr[i]\n",
        "  arr[len(arr)-1] = temp\n",
        "  return arr\n",
        "\n",
        "arr = np.array([5 , 3 , 9 , 13 , 2])\n",
        "print(RotateLeft(arr))\n"
      ],
      "metadata": {
        "colab": {
          "base_uri": "https://localhost:8080/"
        },
        "id": "XaRU-fHYYOAz",
        "outputId": "ec50c1c8-dc3d-4486-8b61-f2c4ebd052eb"
      },
      "execution_count": null,
      "outputs": [
        {
          "output_type": "stream",
          "name": "stdout",
          "text": [
            "[ 3  9 13  2  5]\n"
          ]
        }
      ]
    },
    {
      "cell_type": "code",
      "source": [
        "#Array [5 3 9 13 2]\n",
        "#After Right Rotate\n",
        "#Array [2 5 3 9 13]\n",
        "\n",
        "import numpy as np\n",
        "\n",
        "def RotateRight(arr):\n",
        "  temp = arr[len(arr)-1]\n",
        "  for i in range(len(arr)-1,0,-1):\n",
        "    arr[i] = arr[i-1]\n",
        "  arr[0] = temp\n",
        "  return arr\n",
        "\n",
        "arr =np.array([5 , 3 , 9 , 13 , 2])\n",
        "print(RotateRight(arr))\n"
      ],
      "metadata": {
        "colab": {
          "base_uri": "https://localhost:8080/"
        },
        "id": "N2wYjBZycUyh",
        "outputId": "ad198e04-e4d5-48fb-848d-0a718a073703"
      },
      "execution_count": null,
      "outputs": [
        {
          "output_type": "stream",
          "name": "stdout",
          "text": [
            "[ 2  5  3  9 13]\n"
          ]
        }
      ]
    },
    {
      "cell_type": "markdown",
      "source": [
        "Array Reverse : Out OF Place and In-Place"
      ],
      "metadata": {
        "id": "RzLO0dYWiu8n"
      }
    },
    {
      "cell_type": "code",
      "source": [
        "#Reverse Out Of Place\n",
        "#Arr = [10 20 30 40 50]\n",
        "#After Reverse\n",
        "#RevArr = [50 40 30 20 10]\n",
        "\n",
        "def reversearrayoutofplace(arr):\n",
        "  revArr = [None]*len(arr)\n",
        "  i = 0\n",
        "  j = len(arr) - 1\n",
        "  while i<len(arr):\n",
        "    revArr[i] = arr[j]\n",
        "    i += 1\n",
        "    j -= 1\n",
        "  return revArr\n",
        "\n",
        "\n",
        "\n",
        "arr = np.array([10 ,20 , 30 , 40 , 50])\n",
        "print(reversearrayoutofplace(arr))\n",
        "\n"
      ],
      "metadata": {
        "colab": {
          "base_uri": "https://localhost:8080/"
        },
        "id": "gCtY4B_si1nv",
        "outputId": "64530bde-33fc-4a22-e662-db0f8b1f8c99"
      },
      "execution_count": null,
      "outputs": [
        {
          "output_type": "stream",
          "name": "stdout",
          "text": [
            "[50, 40, 30, 20, 10]\n"
          ]
        }
      ]
    },
    {
      "cell_type": "code",
      "source": [
        "#Reverse In Place\n",
        "#Arr = [10 20 30 40 50]\n",
        "#After Reverse\n",
        "#RevArr = [50 40 30 20 10]\n",
        "import numpy as np\n",
        "\n",
        "def reversearrayinplace(arr):\n",
        "  i = 0\n",
        "  j = len(arr)-1\n",
        "  while i<j:\n",
        "    temp = arr[i]\n",
        "    arr[i] = arr[j]\n",
        "    arr[j] = temp\n",
        "    i+=1\n",
        "    j-=1\n",
        "  return arr\n",
        "\n",
        "\n",
        "\n",
        "arr = np.array([10 , 20 , 30 , 40, 50])\n",
        "print(reversearrayinplace(arr))\n",
        "\n",
        "\n",
        "\n"
      ],
      "metadata": {
        "colab": {
          "base_uri": "https://localhost:8080/"
        },
        "id": "Jobnk6eGrUQ5",
        "outputId": "d3c1cc2c-c477-4237-8fd3-b23de508989e"
      },
      "execution_count": null,
      "outputs": [
        {
          "output_type": "stream",
          "name": "stdout",
          "text": [
            "[50 40 30 20 10]\n"
          ]
        }
      ]
    },
    {
      "cell_type": "markdown",
      "source": [
        "#if size == len(arr):\n",
        "#rint(\"No Space Left. Insertion Failed\")\n",
        "#return **arr**\n",
        "\n"
      ],
      "metadata": {
        "id": "D2yzoYiUnr-l"
      }
    },
    {
      "cell_type": "code",
      "source": [
        "#Main Task is Basically arr[size] = elem\n",
        "import numpy as np\n",
        "def insert_at_the_end(arr, size, elem):\n",
        "    if size >= len(arr):\n",
        "        new_arr = np.zeros(size + 1, dtype=int)\n",
        "        for i in range(len(arr)):\n",
        "            new_arr[i] = arr[i]\n",
        "        arr = new_arr\n",
        "    arr[size] = elem\n",
        "    return arr\n",
        "\n",
        "arr= np.zeros(4, dtype=int)\n",
        "arr[0], arr[1], arr[2] = 4, 6, 5\n",
        "print(arr)\n",
        "print(insert_at_the_end(arr, 3, 15)) #array, size, elem\n",
        "print(insert_at_the_end(arr, 4, 25)) #array, size, elem"
      ],
      "metadata": {
        "colab": {
          "base_uri": "https://localhost:8080/"
        },
        "id": "t1DuzyZ2p_BJ",
        "outputId": "0f2f3d21-39a2-4f51-9c6f-ae42f708d928"
      },
      "execution_count": 55,
      "outputs": [
        {
          "output_type": "stream",
          "name": "stdout",
          "text": [
            "[4 6 5 0]\n",
            "[ 4  6  5 15]\n",
            "[ 4  6  5 15 25]\n"
          ]
        }
      ]
    },
    {
      "cell_type": "code",
      "source": [
        "#Insert elemrnt in any Any Particular Index\n",
        "import numpy as np\n",
        "\n",
        "def insert_at_the_end(arr, size, elem, index):\n",
        "    if size >= len(arr):\n",
        "        new_arr = np.zeros(size + 1, dtype=int)\n",
        "        for i in range(len(arr)):\n",
        "            new_arr[i] = arr[i]\n",
        "        arr = new_arr\n",
        "    for i in range(size, index, -1): #must should be rightshift\n",
        "        arr[i] = arr[i-1]\n",
        "    arr[index] = elem\n",
        "    return arr\n",
        "\n",
        "arr = np.zeros(4, dtype=int)\n",
        "arr[0], arr[1], arr[2] = 4, 6, 5\n",
        "print(arr)\n",
        "print(insert_at_the_end(arr, 3, 15, 0))\n",
        "print(insert_at_the_end(arr, 4, 25, 2))"
      ],
      "metadata": {
        "colab": {
          "base_uri": "https://localhost:8080/"
        },
        "id": "uPQBABvyQvAh",
        "outputId": "28d4bc83-2b81-42a0-ef8a-0d1519ebbbd5"
      },
      "execution_count": 59,
      "outputs": [
        {
          "output_type": "stream",
          "name": "stdout",
          "text": [
            "[4 6 5 0]\n",
            "[15  4  6  5]\n",
            "[15  4 25  6  5]\n"
          ]
        }
      ]
    },
    {
      "cell_type": "code",
      "source": [
        "#Deleting last element\n",
        "def delete_last_element (arr, size):\n",
        "   if size == 0:\n",
        "      return \"Deletion Not Possible\"\n",
        "   arr[size-1]= 0\n",
        "   return arr\n",
        "arr= np.zeros(4, dtype=int)\n",
        "arr[0], arr[1], arr[2] = 4, 6, 5\n",
        "print(arr)\n",
        "print(delete_last_element(arr, 3)) #array, size\n",
        "print(delete_last_element(arr, 2)) #array, size"
      ],
      "metadata": {
        "colab": {
          "base_uri": "https://localhost:8080/"
        },
        "id": "8Ibs1DpMabVy",
        "outputId": "54077125-c1db-406a-b98b-8575939df882"
      },
      "execution_count": 60,
      "outputs": [
        {
          "output_type": "stream",
          "name": "stdout",
          "text": [
            "[4 6 5 0]\n",
            "[4 6 0 0]\n",
            "[4 0 0 0]\n"
          ]
        }
      ]
    },
    {
      "cell_type": "code",
      "source": [
        "#deleting any element\n",
        "\n",
        "def delete_any_element(arr,size,index):\n",
        "  if size == 0:\n",
        "    return \"Deletion not possible\"\n",
        "\n",
        "  for i in range(index,size,1): #Must Be Left Shifted\n",
        "     arr[i] = arr[i+1]\n",
        "  arr[size-1] = 0\n",
        "  return arr\n",
        "\n",
        "arr= np.zeros(5, dtype=int)\n",
        "arr[0], arr[1], arr[2], arr[3] = 4, 6, 5, 2\n",
        "print(arr)\n",
        "print(delete_any_element(arr, 4, 0)) #array, size, index\n",
        "print(delete_any_element(arr, 3, 2)) #array, size, index"
      ],
      "metadata": {
        "colab": {
          "base_uri": "https://localhost:8080/"
        },
        "id": "e47UDdiVqW-h",
        "outputId": "934053ee-ca21-4aa6-f0ee-15a3af338b22"
      },
      "execution_count": 65,
      "outputs": [
        {
          "output_type": "stream",
          "name": "stdout",
          "text": [
            "[4 6 5 2 0]\n",
            "[6 5 2 0 0]\n",
            "[6 5 0 0 0]\n"
          ]
        }
      ]
    }
  ]
}